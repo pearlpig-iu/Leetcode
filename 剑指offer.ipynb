{
 "cells": [
  {
   "cell_type": "markdown",
   "id": "c359e889",
   "metadata": {},
   "source": [
    "1.用两个栈实现队列"
   ]
  },
  {
   "cell_type": "code",
   "execution_count": null,
   "id": "b7804566",
   "metadata": {},
   "outputs": [],
   "source": [
    "class CQueue(object):\n",
    "\n",
    "    def __init__(self):\n",
    "        self.stack1 = []\n",
    "        self.stack2 = []\n",
    "\n",
    "    def appendTail(self, value):\n",
    "        \"\"\"\n",
    "        :type value: int\n",
    "        :rtype: None\n",
    "        \"\"\"\n",
    "        self.stack1.append(value)\n",
    "\n",
    "\n",
    "    def deleteHead(self):\n",
    "        \"\"\"\n",
    "        :rtype: int\n",
    "        \"\"\"\n",
    "        while self.stack2:\n",
    "            self.stack2.pop()\n",
    "        while self.stack1:\n",
    "            self.stack2.append(self.stack1.pop())\n",
    "        if not self.stack2:\n",
    "            return -1\n",
    "        else:\n",
    "            return self.stack2.pop()"
   ]
  },
  {
   "cell_type": "markdown",
   "id": "0bc2403d",
   "metadata": {},
   "source": [
    "2.删除链表的节点"
   ]
  },
  {
   "cell_type": "markdown",
   "id": "abd67bc9",
   "metadata": {},
   "source": [
    "输入: head = [4,5,1,9], val = 5\n",
    "输出: [4,1,9]\n",
    "解释: 给定你链表中值为 5 的第二个节点，那么在调用了你的函数之后，该链表应变为 4 -> 1 -> 9."
   ]
  },
  {
   "cell_type": "code",
   "execution_count": null,
   "id": "43e69f1c",
   "metadata": {},
   "outputs": [],
   "source": [
    "class Solution:\n",
    "    def deleteNode(self, head: ListNode, val: int) -> ListNode:\n",
    "        if head.val == val:\n",
    "            return head.next\n",
    "        p = head\n",
    "        while p.next and p.next.val == val:\n",
    "            p = p.next\n",
    "        else:\n",
    "            p.next = p.next.next\n",
    "        return head"
   ]
  },
  {
   "cell_type": "markdown",
   "id": "10781960",
   "metadata": {},
   "source": [
    "3.删除链表倒数第n个节点"
   ]
  },
  {
   "cell_type": "markdown",
   "id": "cf0cf183",
   "metadata": {},
   "source": [
    "输入：head = [1,2,3,4,5], n = 2\n",
    "输出：[1,2,3,5]"
   ]
  },
  {
   "cell_type": "code",
   "execution_count": null,
   "id": "17ebd3c2",
   "metadata": {},
   "outputs": [],
   "source": [
    "class Solution(object):\n",
    "    def removeNthFromEnd(self, head, n):\n",
    "        left = right = head\n",
    "        count = 0\n",
    "        while count < n:\n",
    "            right = right.next\n",
    "            count += 1\n",
    "        if not right:\n",
    "            return head.next\n",
    "        while right.next:\n",
    "            right = right.next\n",
    "            left = left.next\n",
    "        left.next = left.next.next\n",
    "        return head"
   ]
  }
 ],
 "metadata": {
  "kernelspec": {
   "display_name": "Python 3",
   "language": "python",
   "name": "python3"
  },
  "language_info": {
   "codemirror_mode": {
    "name": "ipython",
    "version": 3
   },
   "file_extension": ".py",
   "mimetype": "text/x-python",
   "name": "python",
   "nbconvert_exporter": "python",
   "pygments_lexer": "ipython3",
   "version": "3.8.8"
  }
 },
 "nbformat": 4,
 "nbformat_minor": 5
}
